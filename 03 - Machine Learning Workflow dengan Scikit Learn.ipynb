{
 "cells": [
  {
   "cell_type": "markdown",
   "metadata": {},
   "source": [
    "# 03 - Machine Learning Workflow dengan Scikit Learn"
   ]
  },
  {
   "cell_type": "markdown",
   "metadata": {},
   "source": [
    "## Persiapan Dataset\n",
    "\n",
    "### Load Sample Dataset : Iris Dataset"
   ]
  },
  {
   "cell_type": "code",
   "execution_count": 1,
   "metadata": {},
   "outputs": [],
   "source": [
    "from sklearn.datasets import load_iris\n",
    "\n",
    "iris = load_iris()\n",
    "\n",
    "X = iris.data\n",
    "y = iris.target"
   ]
  },
  {
   "cell_type": "markdown",
   "metadata": {},
   "source": [
    "### Splitting Dataset : Training and Testing Set\n",
    "- Dataset akan displit menjadi Training dan Testing yang difasilitasi oleh Scikit Learn.\n",
    "- Parameter 1 = Sekumpulan nilai featurenya.\n",
    "- Parameter 2 = Sekumpulan nilai targetnya.\n",
    "- Parameter 3 = Ukuran dari Testing setnya yang bernilai 0.4 yang berarti testing set akan memiliki proporsi 40% dari total keseluruah dataset dan sisanya akan menempati pada Training set.\n",
    "- "
   ]
  },
  {
   "cell_type": "code",
   "execution_count": 4,
   "metadata": {},
   "outputs": [],
   "source": [
    "from sklearn.model_selection import train_test_split\n",
    "\n",
    "X_train,X_split,y_train,y_split = train_test_split(X,\n",
    "                                                   y,\n",
    "                                                   test_size=0.4,\n",
    "                                                   random_state=1)"
   ]
  },
  {
   "cell_type": "markdown",
   "metadata": {},
   "source": [
    "## Training Model\n",
    "- Model machine learning dibentuk dari class yang dikenal istilah estimator.\n",
    "- estimator memilik dua method yang akan mengi"
   ]
  },
  {
   "cell_type": "code",
   "execution_count": null,
   "metadata": {},
   "outputs": [],
   "source": [
    "from sklearn.neighbors import KNeighborsClassifier\n",
    "\n",
    "model = KNeighborsClassifier(n_neighbors=3)\n",
    "model.fit(X_train, y_train)"
   ]
  }
 ],
 "metadata": {
  "kernelspec": {
   "display_name": "Python 3",
   "language": "python",
   "name": "python3"
  },
  "language_info": {
   "codemirror_mode": {
    "name": "ipython",
    "version": 3
   },
   "file_extension": ".py",
   "mimetype": "text/x-python",
   "name": "python",
   "nbconvert_exporter": "python",
   "pygments_lexer": "ipython3",
   "version": "3.8.5"
  }
 },
 "nbformat": 4,
 "nbformat_minor": 4
}
